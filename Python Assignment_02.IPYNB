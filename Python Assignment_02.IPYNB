{
 "cells": [
  {
   "cell_type": "code",
   "execution_count": 21,
   "id": "bcda3cf7",
   "metadata": {},
   "outputs": [],
   "source": [
    "#----------------LAB TASKS\n",
    "#----------------1️ Make a list of 5 numbers and find their sum, maximum, and minimum.\n",
    "#----------------2️ Convert a list into a set to remove duplicate elements.\n",
    "#----------------3️ Store student information in a dictionary (name, roll no, marks) and print it.\n",
    "#----------------4️ Write a program that slices a string and prints only the first 5 characters.\n",
    "#----------------5️ Use list comprehension to generate even numbers from 1 to 20.\n",
    "#----------------6️ Use regex to check if an email address is valid\n",
    "#----------------(basic pattern: \\w+@\\w+\\.\\w+)"
   ]
  },
  {
   "cell_type": "code",
   "execution_count": 22,
   "id": "3ef806d1",
   "metadata": {},
   "outputs": [],
   "source": [
    "#----------------Make a list of 5 numbers and find something (sum, max, min)"
   ]
  },
  {
   "cell_type": "code",
   "execution_count": 23,
   "id": "4adb55b6",
   "metadata": {},
   "outputs": [
    {
     "name": "stdout",
     "output_type": "stream",
     "text": [
      "List: [10, 20, 30, 40, 50]\n",
      "Sum = 150\n",
      "Maximum = 50\n",
      "Minimum = 10\n"
     ]
    }
   ],
   "source": [
    "numbers = [10, 20, 30, 40, 50]\n",
    "\n",
    "print(\"List:\", numbers)\n",
    "print(\"Sum =\", sum(numbers))\n",
    "print(\"Maximum =\", max(numbers))\n",
    "print(\"Minimum =\", min(numbers))"
   ]
  },
  {
   "cell_type": "code",
   "execution_count": 24,
   "id": "befce687",
   "metadata": {},
   "outputs": [],
   "source": [
    "#----------------Convert a list into a set to remove duplicates"
   ]
  },
  {
   "cell_type": "code",
   "execution_count": 25,
   "id": "dbd7f4a3",
   "metadata": {},
   "outputs": [
    {
     "name": "stdout",
     "output_type": "stream",
     "text": [
      "Original list: [1, 2, 2, 3, 4, 4, 5]\n",
      "List after removing duplicates: [1, 2, 3, 4, 5]\n"
     ]
    }
   ],
   "source": [
    "numbers = [1, 2, 2, 3, 4, 4, 5]\n",
    "unique_numbers = list(set(numbers))\n",
    "\n",
    "print(\"Original list:\", numbers)\n",
    "print(\"List after removing duplicates:\", unique_numbers)"
   ]
  },
  {
   "cell_type": "code",
   "execution_count": 26,
   "id": "e829891f",
   "metadata": {},
   "outputs": [],
   "source": [
    "#----------------Store student information in a dictionary (name, roll no, marks)"
   ]
  },
  {
   "cell_type": "code",
   "execution_count": 1,
   "id": "ab407095",
   "metadata": {},
   "outputs": [
    {
     "name": "stdout",
     "output_type": "stream",
     "text": [
      "Student Information:\n",
      "Name: ALI RAZA\n",
      "Roll No: 101\n",
      "Marks: 88\n"
     ]
    }
   ],
   "source": [
    "student = {\n",
    "    \"name\": \"ALI RAZA\",\n",
    "    \"roll_no\": 101,\n",
    "    \"marks\": 88\n",
    "}\n",
    "\n",
    "print(\"Student Information:\")\n",
    "print(\"Name:\", student[\"name\"])\n",
    "print(\"Roll No:\", student[\"roll_no\"])\n",
    "print(\"Marks:\", student[\"marks\"])\n"
   ]
  },
  {
   "cell_type": "code",
   "execution_count": 28,
   "id": "449f264c",
   "metadata": {},
   "outputs": [],
   "source": [
    "#----------------Slice a string and print only first 5 characters"
   ]
  },
  {
   "cell_type": "code",
   "execution_count": 3,
   "id": "ead1e0b7",
   "metadata": {},
   "outputs": [
    {
     "name": "stdout",
     "output_type": "stream",
     "text": [
      "First 5 characters: ALI RA\n"
     ]
    }
   ],
   "source": [
    "text = input(\"Enter any string: \")\n",
    "print(\"First 5 characters:\", text[:6])"
   ]
  },
  {
   "cell_type": "code",
   "execution_count": 31,
   "id": "cd866914",
   "metadata": {},
   "outputs": [],
   "source": [
    "#----------------Use list comprehension to generate even numbers from 1 to 20"
   ]
  },
  {
   "cell_type": "code",
   "execution_count": 32,
   "id": "4bf2f5c8",
   "metadata": {},
   "outputs": [
    {
     "name": "stdout",
     "output_type": "stream",
     "text": [
      "Even numbers from 1 to 20: [2, 4, 6, 8, 10, 12, 14, 16, 18, 20]\n"
     ]
    }
   ],
   "source": [
    "even_numbers = [x for x in range(1, 21) if x % 2 == 0]\n",
    "print(\"Even numbers from 1 to 20:\", even_numbers)"
   ]
  },
  {
   "cell_type": "code",
   "execution_count": 33,
   "id": "89f909ab",
   "metadata": {},
   "outputs": [],
   "source": [
    "#----------------Use regex to check if an email address is valid"
   ]
  },
  {
   "cell_type": "code",
   "execution_count": 34,
   "id": "c0c2d76d",
   "metadata": {},
   "outputs": [
    {
     "name": "stdout",
     "output_type": "stream",
     "text": [
      "❌ Invalid email address\n"
     ]
    }
   ],
   "source": [
    "import re\n",
    "\n",
    "email = input(\"Enter your email address: \")\n",
    "\n",
    "# basic regex pattern\n",
    "pattern = r'^\\w+@\\w+\\.\\w+$'\n",
    "\n",
    "if re.match(pattern, email):\n",
    "    print(\"✅ Valid email address\")\n",
    "else:\n",
    "    print(\"❌ Invalid email address\")"
   ]
  },
  {
   "cell_type": "code",
   "execution_count": null,
   "id": "65ef23e4",
   "metadata": {},
   "outputs": [],
   "source": []
  }
 ],
 "metadata": {
  "kernelspec": {
   "display_name": "Python 3",
   "language": "python",
   "name": "python3"
  },
  "language_info": {
   "codemirror_mode": {
    "name": "ipython",
    "version": 3
   },
   "file_extension": ".py",
   "mimetype": "text/x-python",
   "name": "python",
   "nbconvert_exporter": "python",
   "pygments_lexer": "ipython3",
   "version": "3.9.13"
  }
 },
 "nbformat": 4,
 "nbformat_minor": 5
}
