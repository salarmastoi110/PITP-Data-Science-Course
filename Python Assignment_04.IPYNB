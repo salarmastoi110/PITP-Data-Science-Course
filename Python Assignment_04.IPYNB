{
 "cells": [
  {
   "cell_type": "code",
   "execution_count": 1,
   "id": "41e6aabb",
   "metadata": {},
   "outputs": [],
   "source": [
    "#--------------------------------Exercises for Students\n",
    "#--------------------------------1️ Write a function to calculate the factorial of a number.\n",
    "#--------------------------------2️ Use a lambda + filter to extract even numbers from a list.\n",
    "#--------------------------------3️ Write a program to handle division with try–except\n",
    "#--------------------------------(handle ZeroDivisionError and invalid input).\n",
    "#--------------------------------4️ Create a Car class with attributes:\n",
    "#--------------------------------brand, model, and year.\n",
    "#--------------------------------Add a method to display the car’s information.\n",
    "#--------------------------------5️ Create a Rectangle class with methods to calculate\n",
    "#--------------------------------area and perimeter.\n",
    "#--------------------------------6️ Create a base class Employee and a derived class Manager.\n",
    "#--------------------------------Override a method (e.g., show_details()) in Manager.\n",
    "#--------------------------------7️ Demonstrate polymorphism using two different classes that\n",
    "#--------------------------------share the same method name (e.g., make_sound() or display_info())."
   ]
  },
  {
   "cell_type": "code",
   "execution_count": 2,
   "id": "a2b87420",
   "metadata": {},
   "outputs": [
    {
     "name": "stdout",
     "output_type": "stream",
     "text": [
      "Factorial of 12 is 479001600\n"
     ]
    }
   ],
   "source": [
    "def factorial(n):\n",
    "    result = 1\n",
    "    for i in range(1, n + 1):\n",
    "        result *= i\n",
    "    return result\n",
    "\n",
    "num = int(input(\"Enter a number: \"))\n",
    "print(\"Factorial of\", num, \"is\", factorial(num))"
   ]
  },
  {
   "cell_type": "code",
   "execution_count": 3,
   "id": "3e712af5",
   "metadata": {},
   "outputs": [
    {
     "name": "stdout",
     "output_type": "stream",
     "text": [
      "Even numbers: [2, 4, 6, 8, 10]\n"
     ]
    }
   ],
   "source": [
    "numbers = [1, 2, 3, 4, 5, 6, 7, 8, 9, 10]\n",
    "even_numbers = list(filter(lambda x: x % 2 == 0, numbers))\n",
    "print(\"Even numbers:\", even_numbers)"
   ]
  },
  {
   "cell_type": "code",
   "execution_count": 4,
   "id": "6c5db84a",
   "metadata": {},
   "outputs": [
    {
     "name": "stdout",
     "output_type": "stream",
     "text": [
      "Result = 0.0975609756097561\n"
     ]
    }
   ],
   "source": [
    "try:\n",
    "    a = float(input(\"Enter first number: \"))\n",
    "    b = float(input(\"Enter second number: \"))\n",
    "    result = a / b\n",
    "    print(\"Result =\", result)\n",
    "except ZeroDivisionError:\n",
    "    print(\"Error: Cannot divide by zero.\")\n",
    "except ValueError:\n",
    "    print(\"Error: Please enter valid numeric values.\")"
   ]
  },
  {
   "cell_type": "code",
   "execution_count": 5,
   "id": "f03077b0",
   "metadata": {},
   "outputs": [
    {
     "name": "stdout",
     "output_type": "stream",
     "text": [
      "Car: Toyota Corolla, Year: 2022\n"
     ]
    }
   ],
   "source": [
    "class Car:\n",
    "    def __init__(self, brand, model, year):\n",
    "        self.brand = brand\n",
    "        self.model = model\n",
    "        self.year = year\n",
    "\n",
    "    def display_info(self):\n",
    "        print(f\"Car: {self.brand} {self.model}, Year: {self.year}\")\n",
    "\n",
    "car1 = Car(\"Toyota\", \"Corolla\", 2022)\n",
    "car1.display_info()"
   ]
  },
  {
   "cell_type": "code",
   "execution_count": 6,
   "id": "3be4a2c3",
   "metadata": {},
   "outputs": [
    {
     "name": "stdout",
     "output_type": "stream",
     "text": [
      "Area: 50\n",
      "Perimeter: 30\n"
     ]
    }
   ],
   "source": [
    "class Rectangle:\n",
    "    def __init__(self, length, width):\n",
    "        self.length = length\n",
    "        self.width = width\n",
    "\n",
    "    def area(self):\n",
    "        return self.length * self.width\n",
    "\n",
    "    def perimeter(self):\n",
    "        return 2 * (self.length + self.width)\n",
    "\n",
    "rect = Rectangle(10, 5)\n",
    "print(\"Area:\", rect.area())\n",
    "print(\"Perimeter:\", rect.perimeter())"
   ]
  },
  {
   "cell_type": "code",
   "execution_count": 8,
   "id": "551398ea",
   "metadata": {},
   "outputs": [
    {
     "name": "stdout",
     "output_type": "stream",
     "text": [
      "Manager: Salar, Department: DS, Salary: 800000\n"
     ]
    }
   ],
   "source": [
    "class Employee:\n",
    "    def __init__(self, name, salary):\n",
    "        self.name = name\n",
    "        self.salary = salary\n",
    "\n",
    "    def show_details(self):\n",
    "        print(f\"Employee: {self.name}, Salary: {self.salary}\")\n",
    "\n",
    "class Manager(Employee):\n",
    "    def __init__(self, name, salary, department):\n",
    "        super().__init__(name, salary)\n",
    "        self.department = department\n",
    "\n",
    "    # Override method\n",
    "    def show_details(self):\n",
    "        print(f\"Manager: {self.name}, Department: {self.department}, Salary: {self.salary}\")\n",
    "\n",
    "m1 = Manager(\"Salar\", 800000, \"DS\")\n",
    "m1.show_details()"
   ]
  },
  {
   "cell_type": "code",
   "execution_count": 9,
   "id": "ff321b46",
   "metadata": {},
   "outputs": [
    {
     "name": "stdout",
     "output_type": "stream",
     "text": [
      "Dog says: Woof!\n",
      "Cat says: Meow!\n"
     ]
    }
   ],
   "source": [
    "class Dog:\n",
    "    def sound(self):\n",
    "        print(\"Dog says: Woof!\")\n",
    "\n",
    "class Cat:\n",
    "    def sound(self):\n",
    "        print(\"Cat says: Meow!\")\n",
    "\n",
    "# Polymorphism\n",
    "for animal in (Dog(), Cat()):\n",
    "    animal.sound()"
   ]
  }
 ],
 "metadata": {
  "kernelspec": {
   "display_name": "Python 3",
   "language": "python",
   "name": "python3"
  },
  "language_info": {
   "codemirror_mode": {
    "name": "ipython",
    "version": 3
   },
   "file_extension": ".py",
   "mimetype": "text/x-python",
   "name": "python",
   "nbconvert_exporter": "python",
   "pygments_lexer": "ipython3",
   "version": "3.9.13"
  }
 },
 "nbformat": 4,
 "nbformat_minor": 5
}
